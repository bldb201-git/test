{
  "nbformat": 4,
  "nbformat_minor": 0,
  "metadata": {
    "colab": {
      "name": "git-test.ipynb",
      "provenance": [],
<<<<<<< HEAD
      "collapsed_sections": []
=======
      "collapsed_sections": [],
      "include_colab_link": true
>>>>>>> master
    },
    "kernelspec": {
      "name": "python3",
      "display_name": "Python 3"
<<<<<<< HEAD
    },
    "accelerator": "GPU"
  },
  "cells": [
    {
      "cell_type": "code",
      "execution_count": 2,
      "metadata": {},
      "outputs": [
        {
          "name": "stdout",
          "output_type": "stream",
          "text": "test\n"
        }
      ],
      "source": [
        "#what is this\n"
=======
    }
  },
  "cells": [
    {
      "cell_type": "markdown",
      "metadata": {
        "id": "view-in-github",
        "colab_type": "text"
      },
      "source": [
        "<a href=\"https://colab.research.google.com/github/bldb201-git/test/blob/master/git_test.ipynb\" target=\"_parent\"><img src=\"https://colab.research.google.com/assets/colab-badge.svg\" alt=\"Open In Colab\"/></a>"
>>>>>>> master
      ]
    },
    {
      "cell_type": "code",
<<<<<<< HEAD
      "execution_count": null,
      "metadata": {},
      "outputs": [],
      "source": []
=======
      "metadata": {
        "id": "j4DbmB3ywvoO",
        "colab_type": "code",
        "colab": {}
      },
      "source": [
        "test"
      ],
      "execution_count": 0,
      "outputs": []
>>>>>>> master
    }
  ]
}